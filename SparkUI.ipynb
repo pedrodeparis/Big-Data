{
  "nbformat": 4,
  "nbformat_minor": 0,
  "metadata": {
    "colab": {
      "provenance": [],
      "include_colab_link": true
    },
    "kernelspec": {
      "name": "python3",
      "display_name": "Python 3"
    },
    "language_info": {
      "name": "python"
    }
  },
  "cells": [
    {
      "cell_type": "markdown",
      "metadata": {
        "id": "view-in-github",
        "colab_type": "text"
      },
      "source": [
        "<a href=\"https://colab.research.google.com/github/pedrodeparis/Big-Data/blob/main/SparkUI.ipynb\" target=\"_parent\"><img src=\"https://colab.research.google.com/assets/colab-badge.svg\" alt=\"Open In Colab\"/></a>"
      ]
    },
    {
      "cell_type": "code",
      "source": [
        "!pip install pyspark"
      ],
      "metadata": {
        "colab": {
          "base_uri": "https://localhost:8080/"
        },
        "id": "7Zi0XtjYDnwe",
        "outputId": "06dbc0b6-ef87-4bf5-ea07-3d550524cd06"
      },
      "execution_count": 1,
      "outputs": [
        {
          "output_type": "stream",
          "name": "stdout",
          "text": [
            "Collecting pyspark\n",
            "  Downloading pyspark-3.5.1.tar.gz (317.0 MB)\n",
            "\u001b[2K     \u001b[90m━━━━━━━━━━━━━━━━━━━━━━━━━━━━━━━━━━━━━━━━\u001b[0m \u001b[32m317.0/317.0 MB\u001b[0m \u001b[31m3.7 MB/s\u001b[0m eta \u001b[36m0:00:00\u001b[0m\n",
            "\u001b[?25h  Preparing metadata (setup.py) ... \u001b[?25l\u001b[?25hdone\n",
            "Requirement already satisfied: py4j==0.10.9.7 in /usr/local/lib/python3.10/dist-packages (from pyspark) (0.10.9.7)\n",
            "Building wheels for collected packages: pyspark\n",
            "  Building wheel for pyspark (setup.py) ... \u001b[?25l\u001b[?25hdone\n",
            "  Created wheel for pyspark: filename=pyspark-3.5.1-py2.py3-none-any.whl size=317488493 sha256=fac8aabe96faff2d3edbfb2fc422b39d8160d1cb785de075ceb8dfcf2bb1c2c0\n",
            "  Stored in directory: /root/.cache/pip/wheels/80/1d/60/2c256ed38dddce2fdd93be545214a63e02fbd8d74fb0b7f3a6\n",
            "Successfully built pyspark\n",
            "Installing collected packages: pyspark\n",
            "Successfully installed pyspark-3.5.1\n"
          ]
        }
      ]
    },
    {
      "cell_type": "code",
      "source": [
        "!wget -qnc https://bin.equinox.io/c/4VmDzA7iaHb/ngrok-stable-linux-amd64.zip\n",
        "!unzip -n -q ngrok-stable-linux-amd64.zip"
      ],
      "metadata": {
        "id": "xPUgUCjtI-Y4"
      },
      "execution_count": 2,
      "outputs": []
    },
    {
      "cell_type": "code",
      "source": [
        "from pyspark.sql import SparkSession\n",
        "\n",
        "spark = (\n",
        "    SparkSession.builder\n",
        "      .config('spark.ui.port', '4050')\n",
        "      .appName(\"SparkUI Introdução\")\n",
        "      .getOrCreate()\n",
        ")"
      ],
      "metadata": {
        "id": "kajl0oD8EHAw"
      },
      "execution_count": null,
      "outputs": []
    },
    {
      "cell_type": "code",
      "source": [
        "!./ngrok authtoken 2d0W2OgwCsXBgeCxZQhhxWAgM3c_gXGPbqU86psQuCSWi4JK\n",
        "get_ipython().system_raw('./ngrok http 4050 &')\n",
        "!sleep 10\n",
        "!curl -s http://localhost:4040/api/tunnels | grep -Po 'public_url\":\"(?=https)\\K[^\"]*'"
      ],
      "metadata": {
        "colab": {
          "base_uri": "https://localhost:8080/"
        },
        "id": "TFRKgV79ENi7",
        "outputId": "864fce38-fa88-49bc-a192-e54b9892f048"
      },
      "execution_count": 5,
      "outputs": [
        {
          "output_type": "stream",
          "name": "stdout",
          "text": [
            "Authtoken saved to configuration file: /root/.ngrok2/ngrok.yml\n"
          ]
        }
      ]
    },
    {
      "cell_type": "code",
      "source": [
        "# {\n",
        "#     \"id_transacao\": 1000,\n",
        "#     \"valor\": \"58931.97\",\n",
        "#     \"remetente\": {\"nome\": \"Jonathan Gonsalves\", \"banco\": \"BTG\", \"tipo\": \"PF\"},\n",
        "#     \"destinatario\": {\"nome\": \"Emanuella Moura\", \"banco\": \"Itau\", \"tipo\": \"PJ\"},\n",
        "#     \"transaction_date\": \"2021-06-02\",\n",
        "#     \"chave_pix\": \"aleatoria\",\n",
        "#     \"fraude\": \"1\"\n",
        "# }\n",
        "\n",
        "from pyspark.sql.types import StructType, StructField, IntegerType, DoubleType, StringType, TimestampType\n",
        "\n",
        "schema_remetente_destinatario = StructType([\n",
        "    StructField('nome', StringType()),\n",
        "    StructField('banco', StringType()),\n",
        "    StructField('tipo', StringType()),\n",
        "])\n",
        "\n",
        "\n",
        "schema_base_pix = StructType([\n",
        "    StructField('id_transacao', IntegerType()),\n",
        "    StructField('valor', DoubleType()),\n",
        "    StructField('remetente', schema_remetente_destinatario),\n",
        "    StructField('destinatario', schema_remetente_destinatario),\n",
        "    StructField('transaction_date', TimestampType()),\n",
        "    StructField('chave_pix', StringType()),\n",
        "    StructField('fraude', IntegerType())\n",
        "])\n",
        "\n",
        "\n",
        "caminho_json = './pix_transactions.json'\n",
        "\n",
        "df = spark.read.json(\n",
        "    caminho_json,\n",
        "    schema=schema_base_pix,\n",
        "    timestampFormat=\"yyyy-MM-dd\"\n",
        ")"
      ],
      "metadata": {
        "id": "YjeFCV2TLkg4"
      },
      "execution_count": null,
      "outputs": []
    },
    {
      "cell_type": "code",
      "source": [
        "df.show()"
      ],
      "metadata": {
        "colab": {
          "base_uri": "https://localhost:8080/"
        },
        "id": "K7FPFe1sNdxp",
        "outputId": "14ae2df1-5d62-406d-b440-5121ddbd116c"
      },
      "execution_count": null,
      "outputs": [
        {
          "output_type": "stream",
          "name": "stdout",
          "text": [
            "+------------+--------+--------------------+--------------------+-------------------+---------+------+\n",
            "|id_transacao|   valor|           remetente|        destinatario|   transaction_date|chave_pix|fraude|\n",
            "+------------+--------+--------------------+--------------------+-------------------+---------+------+\n",
            "|        1000|    7.05|{Jonathan Gonsalv...|{Gabriel Cunha, I...|2022-03-19 00:00:00|      cpf|     0|\n",
            "|        1001|   37.28|{Jonathan Gonsalv...|{Diego Souza, XP,...|2021-01-26 00:00:00|aleatoria|     0|\n",
            "|        1002|  282.73|{Jonathan Gonsalv...|{Nicole Nunes, BT...|2022-05-31 00:00:00|aleatoria|     0|\n",
            "|        1003| 8447.92|{Jonathan Gonsalv...|{Maria Fernanda C...|2022-07-04 00:00:00|aleatoria|     0|\n",
            "|        1004|   58.51|{Jonathan Gonsalv...|{Isabel Silva, C6...|2021-09-11 00:00:00|aleatoria|     0|\n",
            "|        1005| 6655.12|{Jonathan Gonsalv...|{Anthony Carvalho...|2022-02-11 00:00:00|  celular|     0|\n",
            "|        1006| 9912.25|{Jonathan Gonsalv...|{Eloah Monteiro, ...|2022-05-10 00:00:00|      cpf|     0|\n",
            "|        1007| 8212.91|{Jonathan Gonsalv...|{Sophie Rocha, BT...|2022-08-28 00:00:00|aleatoria|     0|\n",
            "|        1008|   91.71|{Jonathan Gonsalv...|{Pietro Ribeiro, ...|2022-03-23 00:00:00|      cpf|     0|\n",
            "|        1009|   44.29|{Jonathan Gonsalv...|{Eloah Teixeira, ...|2021-09-18 00:00:00|      cpf|     0|\n",
            "|        1010|     8.2|{Jonathan Gonsalv...|{Emanuella Sales,...|2022-11-10 00:00:00|    email|     0|\n",
            "|        1011|    1.69|{Jonathan Gonsalv...|{Valentina Campos...|2021-07-15 00:00:00|    email|     0|\n",
            "|        1012|  442.76|{Jonathan Gonsalv...|{Stella Araujo, X...|2021-11-14 00:00:00|    email|     0|\n",
            "|        1013|    5.02|{Jonathan Gonsalv...|{Benicio Costela,...|2022-11-15 00:00:00|aleatoria|     0|\n",
            "|        1014|79576.33|{Jonathan Gonsalv...|{Joao Fernandes, ...|2021-03-13 00:00:00|      cpf|     1|\n",
            "|        1015|   96.61|{Jonathan Gonsalv...|{Gabriela da Roch...|2022-08-05 00:00:00|    email|     0|\n",
            "|        1016|   16.92|{Jonathan Gonsalv...|{Larissa Aragao, ...|2022-09-01 00:00:00|  celular|     0|\n",
            "|        1017| 7128.87|{Jonathan Gonsalv...|{Theo Dias, BTG, PJ}|2022-02-02 00:00:00|  celular|     0|\n",
            "|        1018| 1658.63|{Jonathan Gonsalv...|{Danilo Jesus, XP...|2021-08-11 00:00:00|aleatoria|     0|\n",
            "|        1019| 3935.92|{Jonathan Gonsalv...|{Bruno Correia, C...|2022-07-14 00:00:00|  celular|     0|\n",
            "+------------+--------+--------------------+--------------------+-------------------+---------+------+\n",
            "only showing top 20 rows\n",
            "\n"
          ]
        }
      ]
    },
    {
      "cell_type": "code",
      "source": [
        "df.select('destinatario.nome').show()"
      ],
      "metadata": {
        "colab": {
          "base_uri": "https://localhost:8080/"
        },
        "id": "ZWytD_7POTX0",
        "outputId": "4cb7ad01-d578-482a-f9bc-9801789c3c61"
      },
      "execution_count": null,
      "outputs": [
        {
          "output_type": "stream",
          "name": "stdout",
          "text": [
            "+--------------------+\n",
            "|                nome|\n",
            "+--------------------+\n",
            "|       Gabriel Cunha|\n",
            "|         Diego Souza|\n",
            "|        Nicole Nunes|\n",
            "|Maria Fernanda Ca...|\n",
            "|        Isabel Silva|\n",
            "|    Anthony Carvalho|\n",
            "|      Eloah Monteiro|\n",
            "|        Sophie Rocha|\n",
            "|      Pietro Ribeiro|\n",
            "|      Eloah Teixeira|\n",
            "|     Emanuella Sales|\n",
            "|    Valentina Campos|\n",
            "|       Stella Araujo|\n",
            "|     Benicio Costela|\n",
            "|      Joao Fernandes|\n",
            "|   Gabriela da Rocha|\n",
            "|      Larissa Aragao|\n",
            "|           Theo Dias|\n",
            "|        Danilo Jesus|\n",
            "|       Bruno Correia|\n",
            "+--------------------+\n",
            "only showing top 20 rows\n",
            "\n"
          ]
        }
      ]
    },
    {
      "cell_type": "code",
      "source": [
        "df.write.mode('overwrite').partitionBy('chave_pix').parquet('outpute/pix')"
      ],
      "metadata": {
        "id": "XzwYmXSZPWFs"
      },
      "execution_count": null,
      "outputs": []
    },
    {
      "cell_type": "markdown",
      "source": [
        "# SparkSQL"
      ],
      "metadata": {
        "id": "jQDtlYQpRI_A"
      }
    },
    {
      "cell_type": "code",
      "source": [],
      "metadata": {
        "id": "V2JTqQKARLpR"
      },
      "execution_count": null,
      "outputs": []
    }
  ]
}