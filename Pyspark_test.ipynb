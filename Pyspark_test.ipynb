{
  "nbformat": 4,
  "nbformat_minor": 0,
  "metadata": {
    "colab": {
      "provenance": [],
      "authorship_tag": "ABX9TyPR+k6xoVDkpCSwy3FteIZl",
      "include_colab_link": true
    },
    "kernelspec": {
      "name": "python3",
      "display_name": "Python 3"
    },
    "language_info": {
      "name": "python"
    }
  },
  "cells": [
    {
      "cell_type": "markdown",
      "metadata": {
        "id": "view-in-github",
        "colab_type": "text"
      },
      "source": [
        "<a href=\"https://colab.research.google.com/github/pedrodeparis/Big-Data/blob/main/Pyspark_test.ipynb\" target=\"_parent\"><img src=\"https://colab.research.google.com/assets/colab-badge.svg\" alt=\"Open In Colab\"/></a>"
      ]
    },
    {
      "cell_type": "code",
      "execution_count": 1,
      "metadata": {
        "colab": {
          "base_uri": "https://localhost:8080/"
        },
        "id": "-N4C8jCiHHJl",
        "outputId": "bf2a29de-a33b-405e-f4fe-ccc9331c2680"
      },
      "outputs": [
        {
          "output_type": "stream",
          "name": "stdout",
          "text": [
            "Collecting pyspark\n",
            "  Downloading pyspark-3.5.1.tar.gz (317.0 MB)\n",
            "\u001b[2K     \u001b[90m━━━━━━━━━━━━━━━━━━━━━━━━━━━━━━━━━━━━━━━━\u001b[0m \u001b[32m317.0/317.0 MB\u001b[0m \u001b[31m2.3 MB/s\u001b[0m eta \u001b[36m0:00:00\u001b[0m\n",
            "\u001b[?25h  Preparing metadata (setup.py) ... \u001b[?25l\u001b[?25hdone\n",
            "Requirement already satisfied: py4j==0.10.9.7 in /usr/local/lib/python3.10/dist-packages (from pyspark) (0.10.9.7)\n",
            "Building wheels for collected packages: pyspark\n",
            "  Building wheel for pyspark (setup.py) ... \u001b[?25l\u001b[?25hdone\n",
            "  Created wheel for pyspark: filename=pyspark-3.5.1-py2.py3-none-any.whl size=317488493 sha256=12f41beb095739cc32c3e1ad62a8174e1c8d4f0eba03e259f21e2991f67279fc\n",
            "  Stored in directory: /root/.cache/pip/wheels/80/1d/60/2c256ed38dddce2fdd93be545214a63e02fbd8d74fb0b7f3a6\n",
            "Successfully built pyspark\n",
            "Installing collected packages: pyspark\n",
            "Successfully installed pyspark-3.5.1\n"
          ]
        }
      ],
      "source": [
        "!pip install pyspark"
      ]
    },
    {
      "cell_type": "code",
      "source": [
        "from pyspark import SparkContext"
      ],
      "metadata": {
        "id": "4g94OpWTHQ_k"
      },
      "execution_count": 2,
      "outputs": []
    },
    {
      "cell_type": "code",
      "source": [
        "sc = SparkContext(\"local\", \"Testando Contexto Spark\")"
      ],
      "metadata": {
        "id": "RRgG3i54IhJw"
      },
      "execution_count": 3,
      "outputs": []
    },
    {
      "cell_type": "code",
      "source": [
        "rdd_texto = sc.textFile(\"./rdd_dataset.txt\")"
      ],
      "metadata": {
        "id": "NQXpX1JDItUe"
      },
      "execution_count": 4,
      "outputs": []
    },
    {
      "cell_type": "code",
      "source": [
        "rdd_texto.collect()"
      ],
      "metadata": {
        "colab": {
          "base_uri": "https://localhost:8080/"
        },
        "id": "SvUekbddJ0WS",
        "outputId": "b61a0991-f107-4404-ade2-6624d2c0b241"
      },
      "execution_count": 5,
      "outputs": [
        {
          "output_type": "execute_result",
          "data": {
            "text/plain": [
              "['Cenoura',\n",
              " 'Otimista',\n",
              " 'Solitário',\n",
              " 'Imperfeição',\n",
              " 'Descoberta',\n",
              " 'Fantasia',\n",
              " 'DNC',\n",
              " 'Maravilhoso',\n",
              " 'Criatividade',\n",
              " 'Compreensão',\n",
              " 'Atraente',\n",
              " 'Festa',\n",
              " 'Intenção',\n",
              " 'Encontro',\n",
              " 'Destino',\n",
              " 'Sucesso',\n",
              " 'Conquistar',\n",
              " 'Simplicidade',\n",
              " 'Paz',\n",
              " 'Existência',\n",
              " 'Poderoso',\n",
              " 'DNC',\n",
              " 'Conseguir',\n",
              " 'Forte',\n",
              " 'Alegria',\n",
              " 'Espírito',\n",
              " 'Mudança',\n",
              " 'Coragem',\n",
              " 'Determinação',\n",
              " 'DNC']"
            ]
          },
          "metadata": {},
          "execution_count": 5
        }
      ]
    },
    {
      "cell_type": "code",
      "source": [
        "rdd_filtrado = rdd_texto.filter(lambda linha: \"DNC\" in linha)"
      ],
      "metadata": {
        "id": "w9if6hHdJ1iO"
      },
      "execution_count": 7,
      "outputs": []
    },
    {
      "cell_type": "code",
      "source": [
        "rdd_filtrado.collect()"
      ],
      "metadata": {
        "colab": {
          "base_uri": "https://localhost:8080/"
        },
        "id": "QNIhb3OnKBzD",
        "outputId": "9b7339bc-ceb8-4d49-f411-487b9a7d1480"
      },
      "execution_count": 8,
      "outputs": [
        {
          "output_type": "execute_result",
          "data": {
            "text/plain": [
              "['DNC', 'DNC', 'DNC']"
            ]
          },
          "metadata": {},
          "execution_count": 8
        }
      ]
    },
    {
      "cell_type": "code",
      "source": [
        "rdd_filtrado.count()"
      ],
      "metadata": {
        "colab": {
          "base_uri": "https://localhost:8080/"
        },
        "id": "H0iZzmKLKMON",
        "outputId": "03b36153-97ba-4610-8e22-caf986267100"
      },
      "execution_count": 9,
      "outputs": [
        {
          "output_type": "execute_result",
          "data": {
            "text/plain": [
              "3"
            ]
          },
          "metadata": {},
          "execution_count": 9
        }
      ]
    },
    {
      "cell_type": "code",
      "source": [],
      "metadata": {
        "id": "2ZsioDHAKQiy"
      },
      "execution_count": null,
      "outputs": []
    }
  ]
}